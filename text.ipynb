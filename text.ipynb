version https://git-lfs.github.com/spec/v1
oid sha256:50c63ad8cb4692b602f5e2bca29c3accdb88bce520fd29acafab45c60947fd55
size 5668
